{
 "cells": [
  {
   "cell_type": "markdown",
   "metadata": {
    "executionInfo": {
     "elapsed": 447,
     "status": "ok",
     "timestamp": 1675494888165,
     "user": {
      "displayName": "Toaha Rahman Ratul",
      "userId": "12187028678189567607"
     },
     "user_tz": -360
    },
    "id": "mfvRmCuQO3Jw"
   },
   "source": [
    "## Case: 2"
   ]
  },
  {
   "cell_type": "code",
   "execution_count": 1,
   "metadata": {},
   "outputs": [],
   "source": [
    "import pandas as pd #to import file\n",
    "import numpy as np\n",
    "import math\n",
    "\n",
    "\n",
    "\n",
    "def read_csv_regex(data, date_columns=[]):\n",
    "    df = pd.read_csv(data, quotechar='\"', parse_dates=date_columns)\n",
    "    \n",
    "    # remove front and ending blank spaces\n",
    "    df = df.replace({\"^\\s*|\\s*$\":\" \"}, regex=True) \n",
    "    \n",
    "    # if there remained only empty string \"\", change to Nan\n",
    "    df = df.replace({\"\":np.nan}) \n",
    "    return df"
   ]
  },
  {
   "cell_type": "code",
   "execution_count": 2,
   "metadata": {
    "colab": {
     "base_uri": "https://localhost:8080/",
     "height": 363
    },
    "executionInfo": {
     "elapsed": 7,
     "status": "ok",
     "timestamp": 1675494890017,
     "user": {
      "displayName": "Toaha Rahman Ratul",
      "userId": "12187028678189567607"
     },
     "user_tz": -360
    },
    "id": "-Lwte7B0BUhE",
    "outputId": "00ead0df-db21-44aa-db8f-dfa30ea9a255"
   },
   "outputs": [
    {
     "data": {
      "text/html": [
       "<div>\n",
       "<style scoped>\n",
       "    .dataframe tbody tr th:only-of-type {\n",
       "        vertical-align: middle;\n",
       "    }\n",
       "\n",
       "    .dataframe tbody tr th {\n",
       "        vertical-align: top;\n",
       "    }\n",
       "\n",
       "    .dataframe thead th {\n",
       "        text-align: right;\n",
       "    }\n",
       "</style>\n",
       "<table border=\"1\" class=\"dataframe\">\n",
       "  <thead>\n",
       "    <tr style=\"text-align: right;\">\n",
       "      <th></th>\n",
       "      <th>x1</th>\n",
       "      <th>x2</th>\n",
       "      <th>x3</th>\n",
       "      <th>x4</th>\n",
       "      <th>x5</th>\n",
       "      <th>output</th>\n",
       "    </tr>\n",
       "  </thead>\n",
       "  <tbody>\n",
       "    <tr>\n",
       "      <th>0</th>\n",
       "      <td>0</td>\n",
       "      <td>0</td>\n",
       "      <td>0</td>\n",
       "      <td>0</td>\n",
       "      <td>0</td>\n",
       "      <td>0</td>\n",
       "    </tr>\n",
       "    <tr>\n",
       "      <th>1</th>\n",
       "      <td>0</td>\n",
       "      <td>0</td>\n",
       "      <td>0</td>\n",
       "      <td>0</td>\n",
       "      <td>1</td>\n",
       "      <td>0</td>\n",
       "    </tr>\n",
       "    <tr>\n",
       "      <th>2</th>\n",
       "      <td>0</td>\n",
       "      <td>0</td>\n",
       "      <td>0</td>\n",
       "      <td>1</td>\n",
       "      <td>0</td>\n",
       "      <td>0</td>\n",
       "    </tr>\n",
       "    <tr>\n",
       "      <th>3</th>\n",
       "      <td>0</td>\n",
       "      <td>0</td>\n",
       "      <td>0</td>\n",
       "      <td>1</td>\n",
       "      <td>1</td>\n",
       "      <td>0</td>\n",
       "    </tr>\n",
       "    <tr>\n",
       "      <th>4</th>\n",
       "      <td>0</td>\n",
       "      <td>0</td>\n",
       "      <td>1</td>\n",
       "      <td>0</td>\n",
       "      <td>0</td>\n",
       "      <td>0</td>\n",
       "    </tr>\n",
       "  </tbody>\n",
       "</table>\n",
       "</div>"
      ],
      "text/plain": [
       "   x1  x2  x3  x4  x5  output\n",
       "0   0   0   0   0   0       0\n",
       "1   0   0   0   0   1       0\n",
       "2   0   0   0   1   0       0\n",
       "3   0   0   0   1   1       0\n",
       "4   0   0   1   0   0       0"
      ]
     },
     "execution_count": 2,
     "metadata": {},
     "output_type": "execute_result"
    }
   ],
   "source": [
    "dataframe = pd.read_csv(\"perceptron2.0.csv\")\n",
    "dataframe.head()"
   ]
  },
  {
   "cell_type": "code",
   "execution_count": 3,
   "metadata": {
    "colab": {
     "base_uri": "https://localhost:8080/"
    },
    "executionInfo": {
     "elapsed": 4,
     "status": "ok",
     "timestamp": 1675494905892,
     "user": {
      "displayName": "Toaha Rahman Ratul",
      "userId": "12187028678189567607"
     },
     "user_tz": -360
    },
    "id": "OSygymvVREo6",
    "outputId": "a4d71f9f-bdce-4f12-bdde-de9bbdc4c40e"
   },
   "outputs": [
    {
     "name": "stdout",
     "output_type": "stream",
     "text": [
      "[0.1, 0.3, 0.2, 0.4, 0.2]\n",
      "5\n"
     ]
    }
   ],
   "source": [
    "w = [0.1, 0.3, 0.2, 0.4, 0.2]\n",
    "n = dataframe.shape[1] - 1 #no of features\n",
    "y = -1\n",
    "theta = 0.5\n",
    "etas = [0.2, 0.4, 0.7]\n",
    "print(w)\n",
    "print(len(w))\n",
    "r = float(0.0)"
   ]
  },
  {
   "cell_type": "code",
   "execution_count": 4,
   "metadata": {
    "executionInfo": {
     "elapsed": 4,
     "status": "ok",
     "timestamp": 1675494908244,
     "user": {
      "displayName": "Toaha Rahman Ratul",
      "userId": "12187028678189567607"
     },
     "user_tz": -360
    },
    "id": "wEPX33G6BUoN"
   },
   "outputs": [],
   "source": [
    "def learn_perceptron(r, eta, init, end):\n",
    "    #print(w[0], w[1], w[2], w[3], w[4])\n",
    "    #eta = 0.3\n",
    "    #print(\"limit between: \", init, \"-\", end)\n",
    "    eta = float(eta)\n",
    "    r = float(r)\n",
    "    n = dataframe.shape[1] - 1 #no of features\n",
    "    for i in range(init, end):\n",
    "        sop = 0\n",
    "        for j in range(n):\n",
    "            x = dataframe[dataframe.columns[j]][i]\n",
    "            #print(x)\n",
    "            sop += x*w[j]\n",
    "        #print(sop)\n",
    "        if(sop >= theta):\n",
    "            y = 1\n",
    "        else:\n",
    "            y = 0\n",
    "        \n",
    "        desired = dataframe[dataframe.columns[-1]][i]\n",
    "        if(y == desired):\n",
    "            continue\n",
    "        elif(y == 0 and desired == 1):\n",
    "            for a in range(n):\n",
    "                new_w = w[a] + eta*dataframe[dataframe.columns[a]][i]\n",
    "                w[a] = new_w\n",
    "            #print(\"Changed Weights (add): \",w[0], w[1], w[2], w[3], w[4])\n",
    "            learn_perceptron(r, eta, init, end)\n",
    "        elif(y == 1 and desired == 0):\n",
    "            for a in range(n):\n",
    "                new_w = w[a] - eta*dataframe[dataframe.columns[a]][i]\n",
    "                w[a] = new_w\n",
    "            #print(\"Changed Weights (sub): \",w[0], w[1], w[2], w[3], w[4])\n",
    "            learn_perceptron(r, eta, init, end)"
   ]
  },
  {
   "cell_type": "code",
   "execution_count": 5,
   "metadata": {
    "id": "dfFDxmxYPI-4"
   },
   "outputs": [],
   "source": [
    "def test_perceptron(r):\n",
    "    y = -1\n",
    "    n = dataframe.shape[1]-1\n",
    "    init = int(r*dataframe.shape[0]/2)\n",
    "    end = int(dataframe.shape[0]/2)\n",
    "    matched = 0\n",
    "    unmatched = 0\n",
    "    for i in range(init, end):\n",
    "        sop = 0\n",
    "        for j in range(n):\n",
    "            x = dataframe[dataframe.columns[j]][i]\n",
    "            sop += x*w[j]\n",
    "        if(sop >= theta):\n",
    "            y = 1\n",
    "        else:\n",
    "            y = 0\n",
    "        \n",
    "        desired = dataframe[dataframe.columns[-1]][i]\n",
    "        if(y == desired):\n",
    "            matched += 1\n",
    "        else:\n",
    "            unmatched += 1\n",
    "            \n",
    "            \n",
    "    init = int((dataframe.shape[0]/2) + int(r*dataframe.shape[0]/2))\n",
    "    end = int(dataframe.shape[0])\n",
    "    for i in range(init, end):\n",
    "        sop = 0\n",
    "        for j in range(n):\n",
    "            x = dataframe[dataframe.columns[j]][i]\n",
    "            sop += x*w[j]\n",
    "        if(sop >= theta):\n",
    "            y = 1\n",
    "        else:\n",
    "            y = 0\n",
    "        \n",
    "        desired = dataframe[dataframe.columns[-1]][i]\n",
    "        if(y == desired):\n",
    "            matched += 1\n",
    "        else:\n",
    "            unmatched += 1\n",
    "    \n",
    "    return matched, unmatched\n",
    "\n",
    "\n",
    "\n",
    "def test_perceptron_full_train(r):\n",
    "    y = -1\n",
    "    n = dataframe.shape[1]-1\n",
    "    ini = int(0 + 0.3*dataframe.shape[0])\n",
    "    end = int(dataframe.shape[0]-(0.3*dataframe.shape[0]))\n",
    "    matched = 0\n",
    "    unmatched = 0\n",
    "    for i in range(ini, end):\n",
    "        sop = 0\n",
    "        for j in range(n):\n",
    "            x = dataframe[dataframe.columns[j]][i]\n",
    "            sop += x*w[j]\n",
    "        if(sop >= theta):\n",
    "            y = 1\n",
    "        else:\n",
    "            y = 0\n",
    "        \n",
    "        desired = dataframe[dataframe.columns[-1]][i]\n",
    "        if(y == desired):\n",
    "            matched += 1\n",
    "        else:\n",
    "            unmatched += 1\n",
    "    \n",
    "    return matched, unmatched"
   ]
  },
  {
   "cell_type": "code",
   "execution_count": 6,
   "metadata": {
    "colab": {
     "base_uri": "https://localhost:8080/",
     "height": 339
    },
    "executionInfo": {
     "elapsed": 517,
     "status": "error",
     "timestamp": 1675495020397,
     "user": {
      "displayName": "Toaha Rahman Ratul",
      "userId": "12187028678189567607"
     },
     "user_tz": -360
    },
    "id": "_igl4DVRjK_H",
    "outputId": "5fdd4f4f-5ce3-4cb3-835d-5b68a4a175d1"
   },
   "outputs": [
    {
     "name": "stdout",
     "output_type": "stream",
     "text": [
      "For r= 1.0 , eta= 0.2\n",
      "Accuracy:  100.0 %\n",
      "Weights:  0.5 0.09999999999999998 0.2 0.0 0.0 \n",
      "\n",
      "For r= 1.0 , eta= 0.3\n",
      "Accuracy:  100.0 %\n",
      "Weights:  0.7 0.0 -0.09999999999999998 0.10000000000000003 -0.09999999999999998 \n",
      "\n",
      "For r= 1.0 , eta= 0.7\n",
      "Accuracy:  46.15384615384615 %\n",
      "Weights:  2.2 0.3 0.2 0.4 0.2 \n",
      "\n",
      "For r= 0.6 , eta= 0.2\n",
      "Accuracy:  57.14285714285714 %\n",
      "Weights:  0.5 0.3 0.2 0.2 0.0 \n",
      "\n",
      "For r= 0.6 , eta= 0.3\n",
      "Accuracy:  78.57142857142857 %\n",
      "Weights:  0.7 0.3 0.2 0.10000000000000003 -0.09999999999999998 \n",
      "\n",
      "For r= 0.6 , eta= 0.7\n",
      "Accuracy:  78.57142857142857 %\n",
      "Weights:  1.5 0.3 0.2 -0.29999999999999993 0.2 \n",
      "\n",
      "For r= 0.7 , eta= 0.2\n",
      "Accuracy:  100.0 %\n",
      "Weights:  0.5 0.09999999999999998 0.2 0.0 0.0 \n",
      "\n",
      "For r= 0.7 , eta= 0.3\n",
      "Accuracy:  70.0 %\n",
      "Weights:  0.7 0.3 0.2 0.10000000000000003 -0.09999999999999998 \n",
      "\n",
      "For r= 0.7 , eta= 0.7\n",
      "Accuracy:  80.0 %\n",
      "Weights:  1.5 0.3 0.2 -0.29999999999999993 0.2 \n",
      "\n",
      "For r= 0.8 , eta= 0.2\n",
      "Accuracy:  100.0 %\n",
      "Weights:  0.5 0.09999999999999998 0.2 0.0 0.0 \n",
      "\n",
      "For r= 0.8 , eta= 0.3\n",
      "Accuracy:  62.5 %\n",
      "Weights:  0.7 0.3 0.2 0.10000000000000003 -0.09999999999999998 \n",
      "\n",
      "For r= 0.8 , eta= 0.7\n",
      "Accuracy:  75.0 %\n",
      "Weights:  1.5 0.3 0.2 -0.29999999999999993 0.2 \n",
      "\n"
     ]
    }
   ],
   "source": [
    "rates = [1.0, 0.6, 0.7, 0.8]\n",
    "etas = [0.2, 0.3, 0.7]\n",
    "eta = 0.7\n",
    "w = [0.1, 0.3, 0.2, 0.4, 0.2]\n",
    "for i in range(len(rates)):\n",
    "    r = rates[i]\n",
    "    for j in range(len(etas)):\n",
    "        eta = etas[j]\n",
    "        w = [0.1, 0.3, 0.2, 0.4, 0.2]\n",
    "        init = 0\n",
    "        end = int(r*dataframe.shape[0]/2)\n",
    "        learn_perceptron(r, eta, init, end)\n",
    "        #print(w)\n",
    "        init = int(dataframe.shape[0]/2)\n",
    "        end = int(dataframe.shape[0]/2) + int(r*dataframe.shape[0]/2)\n",
    "        learn_perceptron(r, eta, init, end)\n",
    "        #print(w)\n",
    "        print(\"For r=\", r, \", eta=\", eta)\n",
    "        if(r != 1.0):\n",
    "            matched, unmatched = test_perceptron(r)\n",
    "            #print(\"Matched = \", matched, \", Unmatched = \", unmatched)\n",
    "            accuracy = float(matched/(matched+unmatched))\n",
    "            print(\"Accuracy: \", accuracy*100, \"%\")\n",
    "        else:\n",
    "            matched, unmatched = test_perceptron_full_train(r) #100% train korle value/0 jeno na hoy\n",
    "            #print(\"Matched = \", matched, \", Unmatched = \", unmatched)\n",
    "            accuracy = float(matched/(matched+unmatched))\n",
    "            print(\"Accuracy: \", accuracy*100, \"%\")\n",
    "        print(\"Weights: \", w[0],w[1],w[2],w[3],w[4], \"\\n\")\n",
    "    "
   ]
  },
  {
   "cell_type": "code",
   "execution_count": null,
   "metadata": {
    "colab": {
     "base_uri": "https://localhost:8080/"
    },
    "executionInfo": {
     "elapsed": 447,
     "status": "ok",
     "timestamp": 1675493429554,
     "user": {
      "displayName": "Toaha Rahman Ratul",
      "userId": "12187028678189567607"
     },
     "user_tz": -360
    },
    "id": "QkbIjuRnjLBo",
    "outputId": "359fcb0d-87b9-42d2-c361-82dfb42377d2"
   },
   "outputs": [],
   "source": [
    "#r = 0.8\n",
    "#eta = 0.7\n",
    "#learn_perceptron(r, eta)\n",
    "#print(w)"
   ]
  },
  {
   "cell_type": "code",
   "execution_count": null,
   "metadata": {
    "colab": {
     "base_uri": "https://localhost:8080/"
    },
    "executionInfo": {
     "elapsed": 445,
     "status": "ok",
     "timestamp": 1675494483355,
     "user": {
      "displayName": "Toaha Rahman Ratul",
      "userId": "12187028678189567607"
     },
     "user_tz": -360
    },
    "id": "Cr7-7XRSvQwB",
    "outputId": "5f91744e-961e-496a-913d-69b07adfb9a6"
   },
   "outputs": [],
   "source": [
    "#matched, unmatched = test_perceptron(r)\n",
    "#print(\"Matched = \", matched, \", Unmatched = \", unmatched)\n",
    "#accuracy = float(matched/(matched+unmatched))\n",
    "#print(\"Accuracy: \", accuracy*100, \"%\")"
   ]
  },
  {
   "cell_type": "code",
   "execution_count": null,
   "metadata": {},
   "outputs": [],
   "source": []
  }
 ],
 "metadata": {
  "colab": {
   "authorship_tag": "ABX9TyNkghTSt4QFV6gHd9x+wWjM",
   "mount_file_id": "1n5kkGVtW94C81Mvla4M4XB6_2hIgqeED",
   "provenance": []
  },
  "kernelspec": {
   "display_name": "Python 3",
   "language": "python",
   "name": "python3"
  },
  "language_info": {
   "codemirror_mode": {
    "name": "ipython",
    "version": 3
   },
   "file_extension": ".py",
   "mimetype": "text/x-python",
   "name": "python",
   "nbconvert_exporter": "python",
   "pygments_lexer": "ipython3",
   "version": "3.7.1"
  }
 },
 "nbformat": 4,
 "nbformat_minor": 1
}
