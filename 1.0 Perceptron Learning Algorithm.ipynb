{
 "cells": [
  {
   "cell_type": "code",
   "execution_count": 8,
   "metadata": {
    "executionInfo": {
     "elapsed": 588,
     "status": "ok",
     "timestamp": 1675492154149,
     "user": {
      "displayName": "Toaha Rahman Ratul",
      "userId": "12187028678189567607"
     },
     "user_tz": -360
    },
    "id": "mfvRmCuQO3Jw"
   },
   "outputs": [],
   "source": [
    "import pandas as pd #to import file\n",
    "import numpy as np\n",
    "import math\n",
    "\n",
    "\n",
    "\n",
    "def read_csv_regex(data, date_columns=[]):\n",
    "    df = pd.read_csv(data, quotechar='\"', parse_dates=date_columns)\n",
    "    \n",
    "    # remove front and ending blank spaces\n",
    "    df = df.replace({\"^\\s*|\\s*$\":\" \"}, regex=True) \n",
    "    \n",
    "    # if there remained only empty string \"\", change to Nan\n",
    "    df = df.replace({\"\":np.nan}) \n",
    "    return df"
   ]
  },
  {
   "cell_type": "code",
   "execution_count": 11,
   "metadata": {
    "colab": {
     "base_uri": "https://localhost:8080/",
     "height": 300
    },
    "executionInfo": {
     "elapsed": 17,
     "status": "ok",
     "timestamp": 1675492154798,
     "user": {
      "displayName": "Toaha Rahman Ratul",
      "userId": "12187028678189567607"
     },
     "user_tz": -360
    },
    "id": "-Lwte7B0BUhE",
    "outputId": "8e94632f-6747-44ef-f37a-19b08e007da8"
   },
   "outputs": [
    {
     "data": {
      "text/html": [
       "<div>\n",
       "<style scoped>\n",
       "    .dataframe tbody tr th:only-of-type {\n",
       "        vertical-align: middle;\n",
       "    }\n",
       "\n",
       "    .dataframe tbody tr th {\n",
       "        vertical-align: top;\n",
       "    }\n",
       "\n",
       "    .dataframe thead th {\n",
       "        text-align: right;\n",
       "    }\n",
       "</style>\n",
       "<table border=\"1\" class=\"dataframe\">\n",
       "  <thead>\n",
       "    <tr style=\"text-align: right;\">\n",
       "      <th></th>\n",
       "      <th>x1</th>\n",
       "      <th>x2</th>\n",
       "      <th>x3</th>\n",
       "      <th>output</th>\n",
       "    </tr>\n",
       "  </thead>\n",
       "  <tbody>\n",
       "    <tr>\n",
       "      <th>0</th>\n",
       "      <td>0</td>\n",
       "      <td>0</td>\n",
       "      <td>0</td>\n",
       "      <td>0</td>\n",
       "    </tr>\n",
       "    <tr>\n",
       "      <th>1</th>\n",
       "      <td>1</td>\n",
       "      <td>0</td>\n",
       "      <td>0</td>\n",
       "      <td>0</td>\n",
       "    </tr>\n",
       "    <tr>\n",
       "      <th>2</th>\n",
       "      <td>0</td>\n",
       "      <td>1</td>\n",
       "      <td>0</td>\n",
       "      <td>0</td>\n",
       "    </tr>\n",
       "    <tr>\n",
       "      <th>3</th>\n",
       "      <td>1</td>\n",
       "      <td>1</td>\n",
       "      <td>0</td>\n",
       "      <td>0</td>\n",
       "    </tr>\n",
       "    <tr>\n",
       "      <th>4</th>\n",
       "      <td>0</td>\n",
       "      <td>0</td>\n",
       "      <td>1</td>\n",
       "      <td>1</td>\n",
       "    </tr>\n",
       "    <tr>\n",
       "      <th>5</th>\n",
       "      <td>1</td>\n",
       "      <td>0</td>\n",
       "      <td>1</td>\n",
       "      <td>1</td>\n",
       "    </tr>\n",
       "    <tr>\n",
       "      <th>6</th>\n",
       "      <td>0</td>\n",
       "      <td>1</td>\n",
       "      <td>1</td>\n",
       "      <td>1</td>\n",
       "    </tr>\n",
       "    <tr>\n",
       "      <th>7</th>\n",
       "      <td>1</td>\n",
       "      <td>1</td>\n",
       "      <td>1</td>\n",
       "      <td>1</td>\n",
       "    </tr>\n",
       "  </tbody>\n",
       "</table>\n",
       "</div>"
      ],
      "text/plain": [
       "   x1  x2  x3  output\n",
       "0   0   0   0       0\n",
       "1   1   0   0       0\n",
       "2   0   1   0       0\n",
       "3   1   1   0       0\n",
       "4   0   0   1       1\n",
       "5   1   0   1       1\n",
       "6   0   1   1       1\n",
       "7   1   1   1       1"
      ]
     },
     "execution_count": 11,
     "metadata": {},
     "output_type": "execute_result"
    }
   ],
   "source": [
    "dataframe = pd.read_csv(\"perceptron.csv\")\n",
    "dataframe.head(10)"
   ]
  },
  {
   "cell_type": "code",
   "execution_count": 12,
   "metadata": {
    "colab": {
     "base_uri": "https://localhost:8080/"
    },
    "executionInfo": {
     "elapsed": 16,
     "status": "ok",
     "timestamp": 1675492154799,
     "user": {
      "displayName": "Toaha Rahman Ratul",
      "userId": "12187028678189567607"
     },
     "user_tz": -360
    },
    "id": "EyUnTcVQBUji",
    "outputId": "b734cd8d-2d68-4e4b-f85f-118868cec1e6"
   },
   "outputs": [
    {
     "name": "stdout",
     "output_type": "stream",
     "text": [
      "8\n",
      "4\n"
     ]
    }
   ],
   "source": [
    "print(dataframe.shape[0])\n",
    "print(dataframe.shape[1])"
   ]
  },
  {
   "cell_type": "code",
   "execution_count": 13,
   "metadata": {
    "colab": {
     "base_uri": "https://localhost:8080/"
    },
    "executionInfo": {
     "elapsed": 13,
     "status": "ok",
     "timestamp": 1675492154799,
     "user": {
      "displayName": "Toaha Rahman Ratul",
      "userId": "12187028678189567607"
     },
     "user_tz": -360
    },
    "id": "d-bPJ3WLiKOr",
    "outputId": "93bbc3a3-4e0d-4306-8f6b-24cac8674ff7"
   },
   "outputs": [
    {
     "data": {
      "text/plain": [
       "0    0\n",
       "1    0\n",
       "2    1\n",
       "3    1\n",
       "4    0\n",
       "5    0\n",
       "6    1\n",
       "7    1\n",
       "Name: x2, dtype: int64"
      ]
     },
     "execution_count": 13,
     "metadata": {},
     "output_type": "execute_result"
    }
   ],
   "source": [
    "dataframe[dataframe.columns[1]]"
   ]
  },
  {
   "cell_type": "code",
   "execution_count": 14,
   "metadata": {
    "colab": {
     "base_uri": "https://localhost:8080/"
    },
    "executionInfo": {
     "elapsed": 12,
     "status": "ok",
     "timestamp": 1675492154799,
     "user": {
      "displayName": "Toaha Rahman Ratul",
      "userId": "12187028678189567607"
     },
     "user_tz": -360
    },
    "id": "2bBINXUHmAVc",
    "outputId": "d1c79895-792d-4baa-cf26-d057cf432c9a"
   },
   "outputs": [
    {
     "name": "stdout",
     "output_type": "stream",
     "text": [
      "<class 'numpy.int64'>\n"
     ]
    }
   ],
   "source": [
    "dataframe.columns[1][1]\n",
    "print(type(dataframe[dataframe.columns[1]][0]))"
   ]
  },
  {
   "cell_type": "code",
   "execution_count": 15,
   "metadata": {
    "colab": {
     "base_uri": "https://localhost:8080/"
    },
    "executionInfo": {
     "elapsed": 12,
     "status": "ok",
     "timestamp": 1675492154800,
     "user": {
      "displayName": "Toaha Rahman Ratul",
      "userId": "12187028678189567607"
     },
     "user_tz": -360
    },
    "id": "IhX4M5XEoJwx",
    "outputId": "035b14ec-7b01-424b-e694-0e9be1b42b50"
   },
   "outputs": [
    {
     "data": {
      "text/plain": [
       "numpy.int64"
      ]
     },
     "execution_count": 15,
     "metadata": {},
     "output_type": "execute_result"
    }
   ],
   "source": [
    "type(dataframe[dataframe.columns[-1]][1])"
   ]
  },
  {
   "cell_type": "code",
   "execution_count": 16,
   "metadata": {
    "colab": {
     "base_uri": "https://localhost:8080/"
    },
    "executionInfo": {
     "elapsed": 10,
     "status": "ok",
     "timestamp": 1675492154800,
     "user": {
      "displayName": "Toaha Rahman Ratul",
      "userId": "12187028678189567607"
     },
     "user_tz": -360
    },
    "id": "2VPCrWROBUl9",
    "outputId": "65984c82-9849-4e3e-af5f-be8a0a0991d1"
   },
   "outputs": [
    {
     "name": "stdout",
     "output_type": "stream",
     "text": [
      "0.2\n"
     ]
    }
   ],
   "source": [
    "w = [0.1, 0.3, 0.2]\n",
    "n = dataframe.shape[1] - 1 #no of features\n",
    "m = dataframe.shape[0]\n",
    "y = -1\n",
    "theta = 0.5\n",
    "print(w[2])"
   ]
  },
  {
   "cell_type": "code",
   "execution_count": 17,
   "metadata": {
    "executionInfo": {
     "elapsed": 10,
     "status": "ok",
     "timestamp": 1675492154801,
     "user": {
      "displayName": "Toaha Rahman Ratul",
      "userId": "12187028678189567607"
     },
     "user_tz": -360
    },
    "id": "wEPX33G6BUoN"
   },
   "outputs": [],
   "source": [
    "def perceptron():\n",
    "  print(w[0], w[1], w[2])\n",
    "  for i in range(m):\n",
    "    sop = 0\n",
    "    for j in range(n):\n",
    "      x = dataframe[dataframe.columns[j]][i]\n",
    "      #print(x)\n",
    "      sop += x*w[j]\n",
    "    #print(sop)\n",
    "    if(sop >= theta):\n",
    "      y = 1\n",
    "    else:\n",
    "      y = 0\n",
    "\n",
    "    desired = dataframe[dataframe.columns[-1]][i]\n",
    "    if(y == desired):\n",
    "      continue\n",
    "    elif(y == 0 and desired == 1):\n",
    "      for a in range(n):\n",
    "        new_w = w[a] + dataframe[dataframe.columns[a]][i]\n",
    "        w[a] = new_w\n",
    "      print(\"Changed Weights (add): \",w[0],w[1],w[2])\n",
    "      perceptron()\n",
    "    elif(y == 1 and desired == 0):\n",
    "      for a in range(n):\n",
    "        new_w = w[a] - dataframe[dataframe.columns[a]][i]\n",
    "        w[a] = new_w\n",
    "      print(\"Changed Weights (sub): \",w[0],w[1],w[2])\n",
    "      perceptron()\n",
    "    \n"
   ]
  },
  {
   "cell_type": "code",
   "execution_count": 18,
   "metadata": {
    "colab": {
     "base_uri": "https://localhost:8080/"
    },
    "executionInfo": {
     "elapsed": 11,
     "status": "ok",
     "timestamp": 1675492154802,
     "user": {
      "displayName": "Toaha Rahman Ratul",
      "userId": "12187028678189567607"
     },
     "user_tz": -360
    },
    "id": "-AGCkrldjK83",
    "outputId": "2589dfeb-df0b-4ca5-8e89-f0558ca4cf5a"
   },
   "outputs": [
    {
     "name": "stdout",
     "output_type": "stream",
     "text": [
      "0.1 0.3 0.2\n",
      "Changed Weights (add):  0.1 0.3 1.2\n",
      "0.1 0.3 1.2\n",
      "[0.1, 0.3, 1.2]\n"
     ]
    }
   ],
   "source": [
    "perceptron()\n",
    "print(w)"
   ]
  },
  {
   "cell_type": "code",
   "execution_count": 20,
   "metadata": {
    "executionInfo": {
     "elapsed": 9,
     "status": "ok",
     "timestamp": 1675492154802,
     "user": {
      "displayName": "Toaha Rahman Ratul",
      "userId": "12187028678189567607"
     },
     "user_tz": -360
    },
    "id": "QkbIjuRnjLBo"
   },
   "outputs": [],
   "source": []
  }
 ],
 "metadata": {
  "colab": {
   "authorship_tag": "ABX9TyOS1Ifg6Al1L6ZXu1GdIZYv",
   "mount_file_id": "1CTP0BAmm0BzlIxrLTStj01TM48igPQaA",
   "provenance": []
  },
  "kernelspec": {
   "display_name": "Python 3",
   "language": "python",
   "name": "python3"
  },
  "language_info": {
   "codemirror_mode": {
    "name": "ipython",
    "version": 3
   },
   "file_extension": ".py",
   "mimetype": "text/x-python",
   "name": "python",
   "nbconvert_exporter": "python",
   "pygments_lexer": "ipython3",
   "version": "3.7.1"
  }
 },
 "nbformat": 4,
 "nbformat_minor": 1
}
