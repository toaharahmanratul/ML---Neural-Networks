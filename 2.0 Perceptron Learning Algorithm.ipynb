{
 "cells": [
  {
   "cell_type": "markdown",
   "metadata": {
    "executionInfo": {
     "elapsed": 471,
     "status": "ok",
     "timestamp": 1675492156501,
     "user": {
      "displayName": "Toaha Rahman Ratul",
      "userId": "12187028678189567607"
     },
     "user_tz": -360
    },
    "id": "mfvRmCuQO3Jw"
   },
   "source": [
    "## Features: X1-X5\n",
    "## No eta\n",
    "## No learning rate"
   ]
  },
  {
   "cell_type": "code",
   "execution_count": 28,
   "metadata": {},
   "outputs": [],
   "source": [
    "import pandas as pd #to import file\n",
    "import numpy as np\n",
    "import math\n",
    "\n",
    "\n",
    "\n",
    "def read_csv_regex(data, date_columns=[]):\n",
    "    df = pd.read_csv(data, quotechar='\"', parse_dates=date_columns)\n",
    "    \n",
    "    # remove front and ending blank spaces\n",
    "    df = df.replace({\"^\\s*|\\s*$\":\" \"}, regex=True) \n",
    "    \n",
    "    # if there remained only empty string \"\", change to Nan\n",
    "    df = df.replace({\"\":np.nan}) \n",
    "    return df"
   ]
  },
  {
   "cell_type": "code",
   "execution_count": 29,
   "metadata": {
    "colab": {
     "base_uri": "https://localhost:8080/",
     "height": 1000
    },
    "executionInfo": {
     "elapsed": 18,
     "status": "ok",
     "timestamp": 1675492157429,
     "user": {
      "displayName": "Toaha Rahman Ratul",
      "userId": "12187028678189567607"
     },
     "user_tz": -360
    },
    "id": "-Lwte7B0BUhE",
    "outputId": "5002c319-6651-4923-b29b-2456d8f33e5e"
   },
   "outputs": [
    {
     "data": {
      "text/html": [
       "<div>\n",
       "<style scoped>\n",
       "    .dataframe tbody tr th:only-of-type {\n",
       "        vertical-align: middle;\n",
       "    }\n",
       "\n",
       "    .dataframe tbody tr th {\n",
       "        vertical-align: top;\n",
       "    }\n",
       "\n",
       "    .dataframe thead th {\n",
       "        text-align: right;\n",
       "    }\n",
       "</style>\n",
       "<table border=\"1\" class=\"dataframe\">\n",
       "  <thead>\n",
       "    <tr style=\"text-align: right;\">\n",
       "      <th></th>\n",
       "      <th>x1</th>\n",
       "      <th>x2</th>\n",
       "      <th>x3</th>\n",
       "      <th>x4</th>\n",
       "      <th>x5</th>\n",
       "      <th>output</th>\n",
       "    </tr>\n",
       "  </thead>\n",
       "  <tbody>\n",
       "    <tr>\n",
       "      <th>0</th>\n",
       "      <td>0</td>\n",
       "      <td>0</td>\n",
       "      <td>0</td>\n",
       "      <td>0</td>\n",
       "      <td>0</td>\n",
       "      <td>0</td>\n",
       "    </tr>\n",
       "    <tr>\n",
       "      <th>1</th>\n",
       "      <td>0</td>\n",
       "      <td>0</td>\n",
       "      <td>0</td>\n",
       "      <td>0</td>\n",
       "      <td>1</td>\n",
       "      <td>0</td>\n",
       "    </tr>\n",
       "    <tr>\n",
       "      <th>2</th>\n",
       "      <td>0</td>\n",
       "      <td>0</td>\n",
       "      <td>0</td>\n",
       "      <td>1</td>\n",
       "      <td>0</td>\n",
       "      <td>0</td>\n",
       "    </tr>\n",
       "    <tr>\n",
       "      <th>3</th>\n",
       "      <td>0</td>\n",
       "      <td>0</td>\n",
       "      <td>0</td>\n",
       "      <td>1</td>\n",
       "      <td>1</td>\n",
       "      <td>0</td>\n",
       "    </tr>\n",
       "    <tr>\n",
       "      <th>4</th>\n",
       "      <td>0</td>\n",
       "      <td>0</td>\n",
       "      <td>1</td>\n",
       "      <td>0</td>\n",
       "      <td>0</td>\n",
       "      <td>0</td>\n",
       "    </tr>\n",
       "    <tr>\n",
       "      <th>5</th>\n",
       "      <td>0</td>\n",
       "      <td>0</td>\n",
       "      <td>1</td>\n",
       "      <td>0</td>\n",
       "      <td>1</td>\n",
       "      <td>0</td>\n",
       "    </tr>\n",
       "    <tr>\n",
       "      <th>6</th>\n",
       "      <td>0</td>\n",
       "      <td>0</td>\n",
       "      <td>1</td>\n",
       "      <td>1</td>\n",
       "      <td>0</td>\n",
       "      <td>0</td>\n",
       "    </tr>\n",
       "    <tr>\n",
       "      <th>7</th>\n",
       "      <td>0</td>\n",
       "      <td>0</td>\n",
       "      <td>1</td>\n",
       "      <td>1</td>\n",
       "      <td>1</td>\n",
       "      <td>0</td>\n",
       "    </tr>\n",
       "    <tr>\n",
       "      <th>8</th>\n",
       "      <td>0</td>\n",
       "      <td>1</td>\n",
       "      <td>0</td>\n",
       "      <td>0</td>\n",
       "      <td>0</td>\n",
       "      <td>0</td>\n",
       "    </tr>\n",
       "    <tr>\n",
       "      <th>9</th>\n",
       "      <td>0</td>\n",
       "      <td>1</td>\n",
       "      <td>0</td>\n",
       "      <td>0</td>\n",
       "      <td>1</td>\n",
       "      <td>0</td>\n",
       "    </tr>\n",
       "    <tr>\n",
       "      <th>10</th>\n",
       "      <td>0</td>\n",
       "      <td>1</td>\n",
       "      <td>0</td>\n",
       "      <td>1</td>\n",
       "      <td>0</td>\n",
       "      <td>0</td>\n",
       "    </tr>\n",
       "    <tr>\n",
       "      <th>11</th>\n",
       "      <td>0</td>\n",
       "      <td>1</td>\n",
       "      <td>0</td>\n",
       "      <td>1</td>\n",
       "      <td>1</td>\n",
       "      <td>0</td>\n",
       "    </tr>\n",
       "    <tr>\n",
       "      <th>12</th>\n",
       "      <td>0</td>\n",
       "      <td>1</td>\n",
       "      <td>1</td>\n",
       "      <td>0</td>\n",
       "      <td>0</td>\n",
       "      <td>0</td>\n",
       "    </tr>\n",
       "    <tr>\n",
       "      <th>13</th>\n",
       "      <td>0</td>\n",
       "      <td>1</td>\n",
       "      <td>1</td>\n",
       "      <td>0</td>\n",
       "      <td>1</td>\n",
       "      <td>0</td>\n",
       "    </tr>\n",
       "    <tr>\n",
       "      <th>14</th>\n",
       "      <td>0</td>\n",
       "      <td>1</td>\n",
       "      <td>1</td>\n",
       "      <td>1</td>\n",
       "      <td>0</td>\n",
       "      <td>0</td>\n",
       "    </tr>\n",
       "    <tr>\n",
       "      <th>15</th>\n",
       "      <td>0</td>\n",
       "      <td>1</td>\n",
       "      <td>1</td>\n",
       "      <td>1</td>\n",
       "      <td>1</td>\n",
       "      <td>0</td>\n",
       "    </tr>\n",
       "    <tr>\n",
       "      <th>16</th>\n",
       "      <td>1</td>\n",
       "      <td>0</td>\n",
       "      <td>0</td>\n",
       "      <td>0</td>\n",
       "      <td>0</td>\n",
       "      <td>1</td>\n",
       "    </tr>\n",
       "    <tr>\n",
       "      <th>17</th>\n",
       "      <td>1</td>\n",
       "      <td>0</td>\n",
       "      <td>0</td>\n",
       "      <td>0</td>\n",
       "      <td>1</td>\n",
       "      <td>1</td>\n",
       "    </tr>\n",
       "    <tr>\n",
       "      <th>18</th>\n",
       "      <td>1</td>\n",
       "      <td>0</td>\n",
       "      <td>0</td>\n",
       "      <td>1</td>\n",
       "      <td>0</td>\n",
       "      <td>1</td>\n",
       "    </tr>\n",
       "    <tr>\n",
       "      <th>19</th>\n",
       "      <td>1</td>\n",
       "      <td>0</td>\n",
       "      <td>0</td>\n",
       "      <td>1</td>\n",
       "      <td>1</td>\n",
       "      <td>1</td>\n",
       "    </tr>\n",
       "    <tr>\n",
       "      <th>20</th>\n",
       "      <td>1</td>\n",
       "      <td>0</td>\n",
       "      <td>1</td>\n",
       "      <td>0</td>\n",
       "      <td>0</td>\n",
       "      <td>1</td>\n",
       "    </tr>\n",
       "    <tr>\n",
       "      <th>21</th>\n",
       "      <td>1</td>\n",
       "      <td>0</td>\n",
       "      <td>1</td>\n",
       "      <td>0</td>\n",
       "      <td>1</td>\n",
       "      <td>1</td>\n",
       "    </tr>\n",
       "    <tr>\n",
       "      <th>22</th>\n",
       "      <td>1</td>\n",
       "      <td>0</td>\n",
       "      <td>1</td>\n",
       "      <td>1</td>\n",
       "      <td>0</td>\n",
       "      <td>1</td>\n",
       "    </tr>\n",
       "    <tr>\n",
       "      <th>23</th>\n",
       "      <td>1</td>\n",
       "      <td>0</td>\n",
       "      <td>1</td>\n",
       "      <td>1</td>\n",
       "      <td>1</td>\n",
       "      <td>1</td>\n",
       "    </tr>\n",
       "    <tr>\n",
       "      <th>24</th>\n",
       "      <td>1</td>\n",
       "      <td>1</td>\n",
       "      <td>0</td>\n",
       "      <td>0</td>\n",
       "      <td>0</td>\n",
       "      <td>1</td>\n",
       "    </tr>\n",
       "    <tr>\n",
       "      <th>25</th>\n",
       "      <td>1</td>\n",
       "      <td>1</td>\n",
       "      <td>0</td>\n",
       "      <td>0</td>\n",
       "      <td>1</td>\n",
       "      <td>1</td>\n",
       "    </tr>\n",
       "    <tr>\n",
       "      <th>26</th>\n",
       "      <td>1</td>\n",
       "      <td>1</td>\n",
       "      <td>0</td>\n",
       "      <td>1</td>\n",
       "      <td>0</td>\n",
       "      <td>1</td>\n",
       "    </tr>\n",
       "    <tr>\n",
       "      <th>27</th>\n",
       "      <td>1</td>\n",
       "      <td>1</td>\n",
       "      <td>0</td>\n",
       "      <td>1</td>\n",
       "      <td>1</td>\n",
       "      <td>1</td>\n",
       "    </tr>\n",
       "    <tr>\n",
       "      <th>28</th>\n",
       "      <td>1</td>\n",
       "      <td>1</td>\n",
       "      <td>1</td>\n",
       "      <td>0</td>\n",
       "      <td>0</td>\n",
       "      <td>1</td>\n",
       "    </tr>\n",
       "    <tr>\n",
       "      <th>29</th>\n",
       "      <td>1</td>\n",
       "      <td>1</td>\n",
       "      <td>1</td>\n",
       "      <td>0</td>\n",
       "      <td>1</td>\n",
       "      <td>1</td>\n",
       "    </tr>\n",
       "    <tr>\n",
       "      <th>30</th>\n",
       "      <td>1</td>\n",
       "      <td>1</td>\n",
       "      <td>1</td>\n",
       "      <td>1</td>\n",
       "      <td>0</td>\n",
       "      <td>1</td>\n",
       "    </tr>\n",
       "    <tr>\n",
       "      <th>31</th>\n",
       "      <td>1</td>\n",
       "      <td>1</td>\n",
       "      <td>1</td>\n",
       "      <td>1</td>\n",
       "      <td>1</td>\n",
       "      <td>1</td>\n",
       "    </tr>\n",
       "  </tbody>\n",
       "</table>\n",
       "</div>"
      ],
      "text/plain": [
       "    x1  x2  x3  x4  x5  output\n",
       "0    0   0   0   0   0       0\n",
       "1    0   0   0   0   1       0\n",
       "2    0   0   0   1   0       0\n",
       "3    0   0   0   1   1       0\n",
       "4    0   0   1   0   0       0\n",
       "5    0   0   1   0   1       0\n",
       "6    0   0   1   1   0       0\n",
       "7    0   0   1   1   1       0\n",
       "8    0   1   0   0   0       0\n",
       "9    0   1   0   0   1       0\n",
       "10   0   1   0   1   0       0\n",
       "11   0   1   0   1   1       0\n",
       "12   0   1   1   0   0       0\n",
       "13   0   1   1   0   1       0\n",
       "14   0   1   1   1   0       0\n",
       "15   0   1   1   1   1       0\n",
       "16   1   0   0   0   0       1\n",
       "17   1   0   0   0   1       1\n",
       "18   1   0   0   1   0       1\n",
       "19   1   0   0   1   1       1\n",
       "20   1   0   1   0   0       1\n",
       "21   1   0   1   0   1       1\n",
       "22   1   0   1   1   0       1\n",
       "23   1   0   1   1   1       1\n",
       "24   1   1   0   0   0       1\n",
       "25   1   1   0   0   1       1\n",
       "26   1   1   0   1   0       1\n",
       "27   1   1   0   1   1       1\n",
       "28   1   1   1   0   0       1\n",
       "29   1   1   1   0   1       1\n",
       "30   1   1   1   1   0       1\n",
       "31   1   1   1   1   1       1"
      ]
     },
     "execution_count": 29,
     "metadata": {},
     "output_type": "execute_result"
    }
   ],
   "source": [
    "dataframe = pd.read_csv(\"perceptron2.0.csv\")\n",
    "dataframe.head(40)"
   ]
  },
  {
   "cell_type": "code",
   "execution_count": 30,
   "metadata": {
    "colab": {
     "base_uri": "https://localhost:8080/"
    },
    "executionInfo": {
     "elapsed": 16,
     "status": "ok",
     "timestamp": 1675492157430,
     "user": {
      "displayName": "Toaha Rahman Ratul",
      "userId": "12187028678189567607"
     },
     "user_tz": -360
    },
    "id": "EyUnTcVQBUji",
    "outputId": "ca1bf5f2-3d99-433f-ca34-0ef4237d4aae"
   },
   "outputs": [
    {
     "name": "stdout",
     "output_type": "stream",
     "text": [
      "32\n",
      "6\n"
     ]
    }
   ],
   "source": [
    "print(dataframe.shape[0])\n",
    "print(dataframe.shape[1])"
   ]
  },
  {
   "cell_type": "code",
   "execution_count": 31,
   "metadata": {
    "colab": {
     "base_uri": "https://localhost:8080/"
    },
    "executionInfo": {
     "elapsed": 14,
     "status": "ok",
     "timestamp": 1675492157430,
     "user": {
      "displayName": "Toaha Rahman Ratul",
      "userId": "12187028678189567607"
     },
     "user_tz": -360
    },
    "id": "d-bPJ3WLiKOr",
    "outputId": "074c06cf-a195-4065-d691-fba5094fcd62"
   },
   "outputs": [
    {
     "data": {
      "text/plain": [
       "0     0\n",
       "1     0\n",
       "2     0\n",
       "3     0\n",
       "4     0\n",
       "5     0\n",
       "6     0\n",
       "7     0\n",
       "8     1\n",
       "9     1\n",
       "10    1\n",
       "11    1\n",
       "12    1\n",
       "13    1\n",
       "14    1\n",
       "15    1\n",
       "16    0\n",
       "17    0\n",
       "18    0\n",
       "19    0\n",
       "20    0\n",
       "21    0\n",
       "22    0\n",
       "23    0\n",
       "24    1\n",
       "25    1\n",
       "26    1\n",
       "27    1\n",
       "28    1\n",
       "29    1\n",
       "30    1\n",
       "31    1\n",
       "Name: x2, dtype: int64"
      ]
     },
     "execution_count": 31,
     "metadata": {},
     "output_type": "execute_result"
    }
   ],
   "source": [
    "dataframe[dataframe.columns[1]]"
   ]
  },
  {
   "cell_type": "code",
   "execution_count": 32,
   "metadata": {
    "colab": {
     "base_uri": "https://localhost:8080/"
    },
    "executionInfo": {
     "elapsed": 14,
     "status": "ok",
     "timestamp": 1675492157431,
     "user": {
      "displayName": "Toaha Rahman Ratul",
      "userId": "12187028678189567607"
     },
     "user_tz": -360
    },
    "id": "2bBINXUHmAVc",
    "outputId": "cae199e9-7d87-4dff-a309-d6e897bfd4ae"
   },
   "outputs": [
    {
     "name": "stdout",
     "output_type": "stream",
     "text": [
      "<class 'numpy.int64'>\n"
     ]
    }
   ],
   "source": [
    "dataframe.columns[1][1]\n",
    "print(type(dataframe[dataframe.columns[1]][0]))"
   ]
  },
  {
   "cell_type": "code",
   "execution_count": 33,
   "metadata": {
    "colab": {
     "base_uri": "https://localhost:8080/"
    },
    "executionInfo": {
     "elapsed": 13,
     "status": "ok",
     "timestamp": 1675492157431,
     "user": {
      "displayName": "Toaha Rahman Ratul",
      "userId": "12187028678189567607"
     },
     "user_tz": -360
    },
    "id": "IhX4M5XEoJwx",
    "outputId": "b41ec9de-03bf-43af-8d07-1fc2eb6ccbf5"
   },
   "outputs": [
    {
     "data": {
      "text/plain": [
       "numpy.int64"
      ]
     },
     "execution_count": 33,
     "metadata": {},
     "output_type": "execute_result"
    }
   ],
   "source": [
    "type(dataframe[dataframe.columns[-1]][1])"
   ]
  },
  {
   "cell_type": "code",
   "execution_count": 34,
   "metadata": {
    "colab": {
     "base_uri": "https://localhost:8080/"
    },
    "executionInfo": {
     "elapsed": 13,
     "status": "ok",
     "timestamp": 1675492157432,
     "user": {
      "displayName": "Toaha Rahman Ratul",
      "userId": "12187028678189567607"
     },
     "user_tz": -360
    },
    "id": "2VPCrWROBUl9",
    "outputId": "1b491c56-d526-4a60-a320-4ab822392b1c"
   },
   "outputs": [
    {
     "name": "stdout",
     "output_type": "stream",
     "text": [
      "[0.1, 0.3, 0.2, 0.4, 0.2]\n",
      "5\n"
     ]
    }
   ],
   "source": [
    "w = [0.1, 0.3, 0.2, 0.4, 0.2]\n",
    "n = dataframe.shape[1] - 1 #no of features\n",
    "m = dataframe.shape[0]\n",
    "y = -1\n",
    "theta = 0.5\n",
    "print(w)\n",
    "print(len(w))"
   ]
  },
  {
   "cell_type": "code",
   "execution_count": 35,
   "metadata": {
    "executionInfo": {
     "elapsed": 12,
     "status": "ok",
     "timestamp": 1675492157432,
     "user": {
      "displayName": "Toaha Rahman Ratul",
      "userId": "12187028678189567607"
     },
     "user_tz": -360
    },
    "id": "wEPX33G6BUoN"
   },
   "outputs": [],
   "source": [
    "def perceptron():\n",
    "  print(w[0], w[1], w[2], w[3], w[4])\n",
    "  for i in range(m):\n",
    "    sop = 0\n",
    "    for j in range(n):\n",
    "      x = dataframe[dataframe.columns[j]][i]\n",
    "      #print(x)\n",
    "      sop += x*w[j]\n",
    "    #print(sop)\n",
    "    if(sop >= theta):\n",
    "      y = 1\n",
    "    else:\n",
    "      y = 0\n",
    "\n",
    "    desired = dataframe[dataframe.columns[-1]][i]\n",
    "    if(y == desired):\n",
    "      continue\n",
    "    elif(y == 0 and desired == 1):\n",
    "      for a in range(n):\n",
    "        new_w = w[a] + dataframe[dataframe.columns[a]][i]\n",
    "        w[a] = new_w\n",
    "      print(\"Changed Weights (add): \",w[0], w[1], w[2], w[3], w[4])\n",
    "      perceptron()\n",
    "    elif(y == 1 and desired == 0):\n",
    "      for a in range(n):\n",
    "        new_w = w[a] - dataframe[dataframe.columns[a]][i]\n",
    "        w[a] = new_w\n",
    "      print(\"Changed Weights (sub): \",w[0], w[1], w[2], w[3], w[4])\n",
    "      perceptron()\n",
    "    \n"
   ]
  },
  {
   "cell_type": "code",
   "execution_count": 36,
   "metadata": {
    "colab": {
     "base_uri": "https://localhost:8080/"
    },
    "executionInfo": {
     "elapsed": 12,
     "status": "ok",
     "timestamp": 1675492157433,
     "user": {
      "displayName": "Toaha Rahman Ratul",
      "userId": "12187028678189567607"
     },
     "user_tz": -360
    },
    "id": "-AGCkrldjK83",
    "outputId": "2a331eac-2d69-4b57-bcf7-a9d7a1eb6a74"
   },
   "outputs": [
    {
     "name": "stdout",
     "output_type": "stream",
     "text": [
      "0.1 0.3 0.2 0.4 0.2\n",
      "Changed Weights (sub):  0.1 0.3 0.2 -0.6 -0.8\n",
      "0.1 0.3 0.2 -0.6 -0.8\n",
      "Changed Weights (sub):  0.1 -0.7 -0.8 -0.6 -0.8\n",
      "0.1 -0.7 -0.8 -0.6 -0.8\n",
      "Changed Weights (add):  1.1 -0.7 -0.8 -0.6 -0.8\n",
      "1.1 -0.7 -0.8 -0.6 -0.8\n",
      "Changed Weights (add):  2.1 -0.7 -0.8 -0.6 0.19999999999999996\n",
      "2.1 -0.7 -0.8 -0.6 0.19999999999999996\n",
      "Changed Weights (add):  3.1 0.30000000000000004 0.19999999999999996 0.4 0.19999999999999996\n",
      "3.1 0.30000000000000004 0.19999999999999996 0.4 0.19999999999999996\n",
      "Changed Weights (sub):  3.1 0.30000000000000004 0.19999999999999996 -0.6 -0.8\n",
      "3.1 0.30000000000000004 0.19999999999999996 -0.6 -0.8\n",
      "Changed Weights (sub):  3.1 -0.7 -0.8 -0.6 -0.8\n",
      "3.1 -0.7 -0.8 -0.6 -0.8\n",
      "Changed Weights (add):  4.1 0.30000000000000004 0.19999999999999996 0.4 0.19999999999999996\n",
      "4.1 0.30000000000000004 0.19999999999999996 0.4 0.19999999999999996\n",
      "Changed Weights (sub):  4.1 0.30000000000000004 0.19999999999999996 -0.6 -0.8\n",
      "4.1 0.30000000000000004 0.19999999999999996 -0.6 -0.8\n",
      "Changed Weights (sub):  4.1 -0.7 -0.8 -0.6 -0.8\n",
      "4.1 -0.7 -0.8 -0.6 -0.8\n",
      "[4.1, -0.7, -0.8, -0.6, -0.8]\n"
     ]
    }
   ],
   "source": [
    "perceptron()\n",
    "print(w)"
   ]
  },
  {
   "cell_type": "code",
   "execution_count": 30,
   "metadata": {
    "executionInfo": {
     "elapsed": 12,
     "status": "ok",
     "timestamp": 1675492157434,
     "user": {
      "displayName": "Toaha Rahman Ratul",
      "userId": "12187028678189567607"
     },
     "user_tz": -360
    },
    "id": "QkbIjuRnjLBo"
   },
   "outputs": [],
   "source": []
  },
  {
   "cell_type": "code",
   "execution_count": 30,
   "metadata": {
    "executionInfo": {
     "elapsed": 12,
     "status": "ok",
     "timestamp": 1675492157434,
     "user": {
      "displayName": "Toaha Rahman Ratul",
      "userId": "12187028678189567607"
     },
     "user_tz": -360
    },
    "id": "Cr7-7XRSvQwB"
   },
   "outputs": [],
   "source": []
  }
 ],
 "metadata": {
  "colab": {
   "authorship_tag": "ABX9TyPXSc/s7ksarXSKT79huuWV",
   "mount_file_id": "1uf4P-_j_YOK5YQgNT1d3D7t3T_h_qMJF",
   "provenance": []
  },
  "kernelspec": {
   "display_name": "Python 3",
   "language": "python",
   "name": "python3"
  },
  "language_info": {
   "codemirror_mode": {
    "name": "ipython",
    "version": 3
   },
   "file_extension": ".py",
   "mimetype": "text/x-python",
   "name": "python",
   "nbconvert_exporter": "python",
   "pygments_lexer": "ipython3",
   "version": "3.7.1"
  }
 },
 "nbformat": 4,
 "nbformat_minor": 1
}
